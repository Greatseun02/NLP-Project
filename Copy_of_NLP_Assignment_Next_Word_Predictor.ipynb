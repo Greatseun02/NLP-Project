{
  "nbformat": 4,
  "nbformat_minor": 0,
  "metadata": {
    "colab": {
      "provenance": [],
      "include_colab_link": true
    },
    "kernelspec": {
      "name": "python3",
      "display_name": "Python 3"
    },
    "language_info": {
      "name": "python"
    }
  },
  "cells": [
    {
      "cell_type": "markdown",
      "metadata": {
        "id": "view-in-github",
        "colab_type": "text"
      },
      "source": [
        "<a href=\"https://colab.research.google.com/github/Greatseun02/NLP-Project/blob/main/Copy_of_NLP_Assignment_Next_Word_Predictor.ipynb\" target=\"_parent\"><img src=\"https://colab.research.google.com/assets/colab-badge.svg\" alt=\"Open In Colab\"/></a>"
      ]
    },
    {
      "cell_type": "markdown",
      "source": [
        "# Load Data\n"
      ],
      "metadata": {
        "id": "zKbjnUgIeGbe"
      }
    },
    {
      "cell_type": "code",
      "source": [
        "# %pip install nltk\n",
        "\n",
        "# import these modules\n",
        "# import nltk\n",
        "from nltk.stem import WordNetLemmatizer\n",
        "# nltk.download('wordnet')\n",
        "lemmatizer = WordNetLemmatizer()\n",
        "\n",
        "print(\"rocks :\", lemmatizer.lemmatize(\"rocks\"))\n",
        "print(\"corpora :\", lemmatizer.lemmatize(\"corpora\"))\n",
        "\n",
        "# a denotes adjective in \"pos\"\n",
        "print(\"better :\", lemmatizer.lemmatize(\"corpora rocks cats\", pos=\"a\"))\n"
      ],
      "metadata": {
        "colab": {
          "base_uri": "https://localhost:8080/"
        },
        "id": "IFeom51obNdB",
        "outputId": "5b29f9ac-1e25-4fd1-bba8-f613fb58adac"
      },
      "execution_count": null,
      "outputs": [
        {
          "output_type": "stream",
          "name": "stdout",
          "text": [
            "rocks : rock\n",
            "corpora : corpus\n",
            "better : corpora rocks cats\n"
          ]
        }
      ]
    },
    {
      "cell_type": "code",
      "source": [
        "# This dataset contains ~25k tweets in English.\n",
        "!wget -O mini_twitter.txt https://raw.githubusercontent.com/mhassanist/nlp_text_datasets/ea689be7f27906d0e27b112bc11311d40967b5a3/mini_twitter.txt"
      ],
      "metadata": {
        "id": "5cxf52j-eWts",
        "colab": {
          "base_uri": "https://localhost:8080/"
        },
        "outputId": "88e82174-a389-497a-b749-6503a7a8678d"
      },
      "execution_count": null,
      "outputs": [
        {
          "output_type": "stream",
          "name": "stdout",
          "text": [
            "--2024-06-05 22:02:02--  https://raw.githubusercontent.com/mhassanist/nlp_text_datasets/ea689be7f27906d0e27b112bc11311d40967b5a3/mini_twitter.txt\n",
            "Resolving raw.githubusercontent.com (raw.githubusercontent.com)... 185.199.109.133, 185.199.110.133, 185.199.111.133, ...\n",
            "Connecting to raw.githubusercontent.com (raw.githubusercontent.com)|185.199.109.133|:443... connected.\n",
            "HTTP request sent, awaiting response... 200 OK\n",
            "Length: 1747021 (1.7M) [text/plain]\n",
            "Saving to: ‘mini_twitter.txt’\n",
            "\n",
            "mini_twitter.txt    100%[===================>]   1.67M  --.-KB/s    in 0.04s   \n",
            "\n",
            "2024-06-05 22:02:03 (45.5 MB/s) - ‘mini_twitter.txt’ saved [1747021/1747021]\n",
            "\n"
          ]
        }
      ]
    },
    {
      "cell_type": "code",
      "source": [
        "# Open the file and loads its content\n",
        "text = ''\n",
        "with open('mini_twitter.txt', 'r') as content_file:\n",
        "    text = content_file.read()"
      ],
      "metadata": {
        "id": "mbXxQ4oefAlr"
      },
      "execution_count": null,
      "outputs": []
    },
    {
      "cell_type": "code",
      "source": [
        "# Make sure your data is loaded correctly.\n",
        "# Task 1: Print the first 100 character of the text\n",
        "\n",
        "# YOUR CODE HERE\n",
        "\n",
        "for char in text[:101]:\n",
        "  print(char)\n"
      ],
      "metadata": {
        "id": "DCgQvHK_fRkG",
        "colab": {
          "base_uri": "https://localhost:8080/"
        },
        "outputId": "36d9565f-f1de-4a02-ed85-0688684ad3c7"
      },
      "execution_count": null,
      "outputs": [
        {
          "output_type": "stream",
          "name": "stdout",
          "text": [
            "H\n",
            "o\n",
            "w\n",
            " \n",
            "a\n",
            "r\n",
            "e\n",
            " \n",
            "y\n",
            "o\n",
            "u\n",
            "?\n",
            " \n",
            "B\n",
            "t\n",
            "w\n",
            " \n",
            "t\n",
            "h\n",
            "a\n",
            "n\n",
            "k\n",
            "s\n",
            " \n",
            "f\n",
            "o\n",
            "r\n",
            " \n",
            "t\n",
            "h\n",
            "e\n",
            " \n",
            "R\n",
            "T\n",
            ".\n",
            " \n",
            "Y\n",
            "o\n",
            "u\n",
            " \n",
            "g\n",
            "o\n",
            "n\n",
            "n\n",
            "a\n",
            " \n",
            "b\n",
            "e\n",
            " \n",
            "i\n",
            "n\n",
            " \n",
            "D\n",
            "C\n",
            " \n",
            "a\n",
            "n\n",
            "y\n",
            "t\n",
            "i\n",
            "m\n",
            "e\n",
            " \n",
            "s\n",
            "o\n",
            "o\n",
            "n\n",
            "?\n",
            " \n",
            "L\n",
            "o\n",
            "v\n",
            "e\n",
            " \n",
            "t\n",
            "o\n",
            " \n",
            "s\n",
            "e\n",
            "e\n",
            " \n",
            "y\n",
            "o\n",
            "u\n",
            ".\n",
            " \n",
            "B\n",
            "e\n",
            "e\n",
            "n\n",
            " \n",
            "w\n",
            "a\n",
            "y\n",
            ",\n",
            " \n",
            "w\n",
            "a\n",
            "y\n",
            " \n",
            "t\n"
          ]
        }
      ]
    },
    {
      "cell_type": "markdown",
      "source": [
        "# Import required libraries"
      ],
      "metadata": {
        "id": "K2et8PvjfkaA"
      }
    },
    {
      "cell_type": "code",
      "source": [
        "import numpy as np\n",
        "import tensorflow as tf\n",
        "from tensorflow.keras.preprocessing.text import Tokenizer\n",
        "from tensorflow.keras.preprocessing.sequence import pad_sequences\n",
        "from tensorflow.keras.models import Sequential\n",
        "from tensorflow.keras.layers import Embedding, LSTM, Bidirectional, Dense\n",
        "from tensorflow.keras.utils import to_categorical\n",
        "from tensorflow.keras.optimizers import Adam\n",
        "import nltk"
      ],
      "metadata": {
        "id": "GGDTjxg7f7YU"
      },
      "execution_count": null,
      "outputs": []
    },
    {
      "cell_type": "markdown",
      "source": [
        "# Tokenization"
      ],
      "metadata": {
        "id": "DvJSCxwQgNn3"
      }
    },
    {
      "cell_type": "code",
      "source": [
        "# Task 2.1: Convert the data to lowercase and split it into separate sentences. Store the result in the corpus variable\n",
        "# corpus = [sentence.lower() for sentence in text.split(\"\\n\")]\n",
        "corpus = [sentence.lower() for sentence in text.split(\"\\n\")]\n",
        "print(corpus[0]) # how are you? btw thanks for the rt. you gonna be in dc anytime soon? love to see you. been way, way too long.\n"
      ],
      "metadata": {
        "id": "T172ha5ggPzL",
        "colab": {
          "base_uri": "https://localhost:8080/"
        },
        "outputId": "8da027ff-18d1-4374-cdae-af69c527cc72"
      },
      "execution_count": null,
      "outputs": [
        {
          "output_type": "stream",
          "name": "stdout",
          "text": [
            "how are you? btw thanks for the rt. you gonna be in dc anytime soon? love to see you. been way, way too long.\n"
          ]
        }
      ]
    },
    {
      "cell_type": "code",
      "source": [
        "# Task 2.2: Convert all sentences from the text corpus into n-gram sequences of tokens (numeric representations of words)\n",
        "\n",
        "# Initialize a tokenizer\n",
        "tokenizer = Tokenizer()\n",
        "# Fit it on the text\n",
        "tokenizer.fit_on_texts(corpus)\n",
        "\n",
        "total_words = len(tokenizer.word_index) + 1"
      ],
      "metadata": {
        "id": "NT3Mc623ivlC"
      },
      "execution_count": null,
      "outputs": []
    },
    {
      "cell_type": "code",
      "source": [
        "# Task 2.3 : # Use the tokenizer to convert each sentence to n-gram sequence\n",
        "\n",
        "\n",
        "# YOUR CODE HERE\n",
        "\n",
        "input_sequences = []\n",
        "for line in corpus:\n",
        "  token_list = tokenizer.texts_to_sequences([line])[0]\n",
        "  for i in range(1, len(token_list)):\n",
        "    n_gram_sequence = token_list[:i+1]\n",
        "    input_sequences.append(n_gram_sequence)\n",
        "print(input_sequences[1]) # [54, 24, 5]\n",
        "\n"
      ],
      "metadata": {
        "id": "ZeSkucapjD32",
        "colab": {
          "base_uri": "https://localhost:8080/"
        },
        "outputId": "bfb1fea8-8f6c-4d8c-8213-c5fb4404387b"
      },
      "execution_count": null,
      "outputs": [
        {
          "output_type": "stream",
          "name": "stdout",
          "text": [
            "[56, 22, 5]\n"
          ]
        }
      ]
    },
    {
      "cell_type": "markdown",
      "source": [
        "# LSTM Model"
      ],
      "metadata": {
        "id": "9ERg9wbfj_uR"
      }
    },
    {
      "cell_type": "code",
      "source": [
        "# Task 3: Create LSTM model, compile it and fit it.\n",
        "\n",
        "\n",
        "# Pad sequences to ensure equal length\n",
        "max_sequence_length = max([len(seq) for seq in input_sequences])\n",
        "padded_sequences = np.array(pad_sequences(input_sequences, maxlen=max_sequence_length, padding='pre'))\n",
        "\n",
        "# Prepare input and target data\n",
        "x_sequences = padded_sequences[:, :-1]\n",
        "label = padded_sequences[:, -1]\n",
        "\n",
        "y_sequences = tf.keras.utils.to_categorical(label, num_classes=total_words)\n",
        "\n",
        "# Build the LSTM model\n",
        "model = Sequential()\n",
        "\n",
        "model.add(Embedding(total_words, 240, input_length=max_sequence_length-1))\n",
        "\n",
        "model.add(Bidirectional(LSTM(150)))\n",
        "\n",
        "model.add(Dense(total_words, activation=\"softmax\"))\n",
        "\n",
        "adam = Adam(lr=0.01)\n",
        "# Compile the model\n",
        "model.compile(optimizer=adam, loss='sparse_categorical_crossentropy', metrics=['accuracy'])\n",
        "\n",
        "# Train the model\n",
        "model.fit(x_sequences, y_sequences, epochs=100, verbose=1)\n"
      ],
      "metadata": {
        "id": "sRSr_icdj-_D",
        "colab": {
          "base_uri": "https://localhost:8080/",
          "height": 228
        },
        "outputId": "7bd2ff20-e968-40f7-c238-2000f65db2b7"
      },
      "execution_count": null,
      "outputs": [
        {
          "output_type": "error",
          "ename": "NameError",
          "evalue": "name 'input_sequences' is not defined",
          "traceback": [
            "\u001b[0;31m---------------------------------------------------------------------------\u001b[0m",
            "\u001b[0;31mNameError\u001b[0m                                 Traceback (most recent call last)",
            "\u001b[0;32m<ipython-input-1-125a3d66ae15>\u001b[0m in \u001b[0;36m<cell line: 5>\u001b[0;34m()\u001b[0m\n\u001b[1;32m      3\u001b[0m \u001b[0;34m\u001b[0m\u001b[0m\n\u001b[1;32m      4\u001b[0m \u001b[0;31m# Pad sequences to ensure equal length\u001b[0m\u001b[0;34m\u001b[0m\u001b[0;34m\u001b[0m\u001b[0m\n\u001b[0;32m----> 5\u001b[0;31m \u001b[0mmax_sequence_length\u001b[0m \u001b[0;34m=\u001b[0m \u001b[0mmax\u001b[0m\u001b[0;34m(\u001b[0m\u001b[0;34m[\u001b[0m\u001b[0mlen\u001b[0m\u001b[0;34m(\u001b[0m\u001b[0mseq\u001b[0m\u001b[0;34m)\u001b[0m \u001b[0;32mfor\u001b[0m \u001b[0mseq\u001b[0m \u001b[0;32min\u001b[0m \u001b[0minput_sequences\u001b[0m\u001b[0;34m]\u001b[0m\u001b[0;34m)\u001b[0m\u001b[0;34m\u001b[0m\u001b[0;34m\u001b[0m\u001b[0m\n\u001b[0m\u001b[1;32m      6\u001b[0m \u001b[0mpadded_sequences\u001b[0m \u001b[0;34m=\u001b[0m \u001b[0mnp\u001b[0m\u001b[0;34m.\u001b[0m\u001b[0marray\u001b[0m\u001b[0;34m(\u001b[0m\u001b[0mpad_sequences\u001b[0m\u001b[0;34m(\u001b[0m\u001b[0minput_sequences\u001b[0m\u001b[0;34m,\u001b[0m \u001b[0mmaxlen\u001b[0m\u001b[0;34m=\u001b[0m\u001b[0mmax_sequence_length\u001b[0m\u001b[0;34m,\u001b[0m \u001b[0mpadding\u001b[0m\u001b[0;34m=\u001b[0m\u001b[0;34m'pre'\u001b[0m\u001b[0;34m)\u001b[0m\u001b[0;34m)\u001b[0m\u001b[0;34m\u001b[0m\u001b[0;34m\u001b[0m\u001b[0m\n\u001b[1;32m      7\u001b[0m \u001b[0;34m\u001b[0m\u001b[0m\n",
            "\u001b[0;31mNameError\u001b[0m: name 'input_sequences' is not defined"
          ]
        }
      ]
    },
    {
      "cell_type": "markdown",
      "source": [
        "# Model Prediction"
      ],
      "metadata": {
        "id": "pzqPh9fIkl5y"
      }
    },
    {
      "cell_type": "code",
      "source": [
        "# Complete the following prediction function\n",
        "\n",
        "# Prediction function\n",
        "def predict_next_word(text):\n",
        "    predicted_word = ''\n",
        "\n",
        "\n",
        "    # YOUR CODE HERE\n",
        "\n",
        "\n",
        "    return predicted_word\n",
        "\n",
        "\n",
        "# test the model\n",
        "print(predict_next_word(\"most people mess up\")) # many\n",
        "\n",
        "print(predict_next_word(\"most people mess up many\")) # many times\n"
      ],
      "metadata": {
        "id": "fFPvLZ7CklKa"
      },
      "execution_count": null,
      "outputs": []
    },
    {
      "cell_type": "markdown",
      "source": [
        "# Play with it !"
      ],
      "metadata": {
        "id": "I0loxGmLlBoN"
      }
    },
    {
      "cell_type": "code",
      "source": [
        "text = \"let's\" # starting text\n",
        "for _ in range(10): # generate the next 10 words\n",
        "  next = predict_next_word(text)\n",
        "  text = text + \" \" + next\n",
        "\n",
        "print(text)\n"
      ],
      "metadata": {
        "id": "P5wnINJwlFcP"
      },
      "execution_count": null,
      "outputs": []
    }
  ]
}