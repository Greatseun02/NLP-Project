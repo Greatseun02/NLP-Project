{
  "cells": [
    {
      "cell_type": "markdown",
      "metadata": {
        "colab_type": "text",
        "id": "view-in-github"
      },
      "source": [
        "<a href=\"https://colab.research.google.com/github/Greatseun02/NLP-Project/blob/main/Copy_of_NLP_Assignment_Next_Word_Predictor.ipynb\" target=\"_parent\"><img src=\"https://colab.research.google.com/assets/colab-badge.svg\" alt=\"Open In Colab\"/></a>"
      ]
    },
    {
      "cell_type": "markdown",
      "metadata": {
        "id": "zKbjnUgIeGbe"
      },
      "source": [
        "# Load Data\n"
      ]
    },
    {
      "cell_type": "code",
      "execution_count": 1,
      "metadata": {
        "colab": {
          "base_uri": "https://localhost:8080/"
        },
        "id": "IFeom51obNdB",
        "outputId": "5b29f9ac-1e25-4fd1-bba8-f613fb58adac"
      },
      "outputs": [
        {
          "name": "stderr",
          "output_type": "stream",
          "text": [
            "[nltk_data] Error loading wordnet: <urlopen error [Errno 11001]\n",
            "[nltk_data]     getaddrinfo failed>\n"
          ]
        },
        {
          "name": "stdout",
          "output_type": "stream",
          "text": [
            "rocks : rock\n",
            "corpora : corpus\n",
            "better : corpora rocks cats\n"
          ]
        }
      ],
      "source": [
        "# %pip install nltk\n",
        "\n",
        "# import these modules\n",
        "import nltk\n",
        "from nltk.stem import WordNetLemmatizer\n",
        "nltk.download('wordnet')\n",
        "lemmatizer = WordNetLemmatizer()\n",
        "\n",
        "print(\"rocks :\", lemmatizer.lemmatize(\"rocks\"))\n",
        "print(\"corpora :\", lemmatizer.lemmatize(\"corpora\"))\n",
        "\n",
        "# a denotes adjective in \"pos\"\n",
        "print(\"better :\", lemmatizer.lemmatize(\"corpora rocks cats\", pos=\"a\"))\n"
      ]
    },
    {
      "cell_type": "code",
      "execution_count": 2,
      "metadata": {
        "colab": {
          "base_uri": "https://localhost:8080/"
        },
        "id": "5cxf52j-eWts",
        "outputId": "88e82174-a389-497a-b749-6503a7a8678d"
      },
      "outputs": [
        {
          "name": "stderr",
          "output_type": "stream",
          "text": [
            "'wget' is not recognized as an internal or external command,\n",
            "operable program or batch file.\n"
          ]
        }
      ],
      "source": [
        "# This dataset contains ~25k tweets in English.\n",
        "!wget -O mini_twitter.txt https://raw.githubusercontent.com/mhassanist/nlp_text_datasets/ea689be7f27906d0e27b112bc11311d40967b5a3/mini_twitter.txt"
      ]
    },
    {
      "cell_type": "code",
      "execution_count": 3,
      "metadata": {
        "id": "mbXxQ4oefAlr"
      },
      "outputs": [],
      "source": [
        "# Open the file and loads its content\n",
        "text = ''\n",
        "with open('mini_twitter.txt', 'r', encoding=\"utf-8\") as content_file:\n",
        "    text = content_file.read()"
      ]
    },
    {
      "cell_type": "code",
      "execution_count": 4,
      "metadata": {
        "colab": {
          "base_uri": "https://localhost:8080/"
        },
        "id": "DCgQvHK_fRkG",
        "outputId": "36d9565f-f1de-4a02-ed85-0688684ad3c7"
      },
      "outputs": [
        {
          "name": "stdout",
          "output_type": "stream",
          "text": [
            "H\n",
            "o\n",
            "w\n",
            " \n",
            "a\n",
            "r\n",
            "e\n",
            " \n",
            "y\n",
            "o\n",
            "u\n",
            "?\n",
            " \n",
            "B\n",
            "t\n",
            "w\n",
            " \n",
            "t\n",
            "h\n",
            "a\n",
            "n\n",
            "k\n",
            "s\n",
            " \n",
            "f\n",
            "o\n",
            "r\n",
            " \n",
            "t\n",
            "h\n",
            "e\n",
            " \n",
            "R\n",
            "T\n",
            ".\n",
            " \n",
            "Y\n",
            "o\n",
            "u\n",
            " \n",
            "g\n",
            "o\n",
            "n\n",
            "n\n",
            "a\n",
            " \n",
            "b\n",
            "e\n",
            " \n",
            "i\n",
            "n\n",
            " \n",
            "D\n",
            "C\n",
            " \n",
            "a\n",
            "n\n",
            "y\n",
            "t\n",
            "i\n",
            "m\n",
            "e\n",
            " \n",
            "s\n",
            "o\n",
            "o\n",
            "n\n",
            "?\n",
            " \n",
            "L\n",
            "o\n",
            "v\n",
            "e\n",
            " \n",
            "t\n",
            "o\n",
            " \n",
            "s\n",
            "e\n",
            "e\n",
            " \n",
            "y\n",
            "o\n",
            "u\n",
            ".\n",
            " \n",
            "B\n",
            "e\n",
            "e\n",
            "n\n",
            " \n",
            "w\n",
            "a\n",
            "y\n",
            ",\n",
            " \n",
            "w\n",
            "a\n",
            "y\n",
            " \n",
            "t\n"
          ]
        }
      ],
      "source": [
        "# Make sure your data is loaded correctly.\n",
        "# Task 1: Print the first 100 character of the text\n",
        "\n",
        "# YOUR CODE HERE\n",
        "\n",
        "for char in text[:101]:\n",
        "  print(char)\n"
      ]
    },
    {
      "cell_type": "markdown",
      "metadata": {
        "id": "K2et8PvjfkaA"
      },
      "source": [
        "# Import required libraries"
      ]
    },
    {
      "cell_type": "code",
      "execution_count": 5,
      "metadata": {
        "id": "GGDTjxg7f7YU"
      },
      "outputs": [],
      "source": [
        "import numpy as np\n",
        "import tensorflow as tf\n",
        "from tensorflow.keras.preprocessing.text import Tokenizer\n",
        "from tensorflow.keras.preprocessing.sequence import pad_sequences\n",
        "from tensorflow.keras.models import Sequential\n",
        "from tensorflow.keras.layers import Embedding, LSTM, Bidirectional, Dense, Dropout\n",
        "from tensorflow.keras.utils import to_categorical\n",
        "from tensorflow.keras.optimizers import Adam\n",
        "import nltk"
      ]
    },
    {
      "cell_type": "markdown",
      "metadata": {
        "id": "DvJSCxwQgNn3"
      },
      "source": [
        "# Tokenization"
      ]
    },
    {
      "cell_type": "code",
      "execution_count": 6,
      "metadata": {
        "colab": {
          "base_uri": "https://localhost:8080/"
        },
        "id": "T172ha5ggPzL",
        "outputId": "8da027ff-18d1-4374-cdae-af69c527cc72"
      },
      "outputs": [
        {
          "name": "stdout",
          "output_type": "stream",
          "text": [
            "how are you? btw thanks for the rt. you gonna be in dc anytime soon? love to see you. been way, way too long.\n"
          ]
        }
      ],
      "source": [
        "# Task 2.1: Convert the data to lowercase and split it into separate sentences. Store the result in the corpus variable\n",
        "# corpus = [sentence.lower() for sentence in text.split(\"\\n\")]\n",
        "corpus = [sentence.lower() for sentence in text.split(\"\\n\")]\n",
        "print(corpus[0]) # how are you? btw thanks for the rt. you gonna be in dc anytime soon? love to see you. been way, way too long.\n"
      ]
    },
    {
      "cell_type": "code",
      "execution_count": 7,
      "metadata": {
        "id": "NT3Mc623ivlC"
      },
      "outputs": [],
      "source": [
        "# Task 2.2: Convert all sentences from the text corpus into n-gram sequences of tokens (numeric representations of words)\n",
        "\n",
        "# Initialize a tokenizer\n",
        "tokenizer = Tokenizer()\n",
        "# Fit it on the text\n",
        "tokenizer.fit_on_texts(corpus)\n",
        "\n",
        "total_words = len(tokenizer.word_index) + 1"
      ]
    },
    {
      "cell_type": "code",
      "execution_count": 8,
      "metadata": {
        "colab": {
          "base_uri": "https://localhost:8080/"
        },
        "id": "ZeSkucapjD32",
        "outputId": "bfb1fea8-8f6c-4d8c-8213-c5fb4404387b"
      },
      "outputs": [
        {
          "name": "stdout",
          "output_type": "stream",
          "text": [
            "[56, 22, 5]\n"
          ]
        }
      ],
      "source": [
        "# Task 2.3 : # Use the tokenizer to convert each sentence to n-gram sequence\n",
        "\n",
        "\n",
        "# YOUR CODE HERE\n",
        "\n",
        "input_sequences = []\n",
        "for line in corpus:\n",
        "  token_list = tokenizer.texts_to_sequences([line])[0]\n",
        "  for i in range(1, len(token_list)):\n",
        "    n_gram_sequence = token_list[:i+1]\n",
        "    input_sequences.append(n_gram_sequence)\n",
        "print(input_sequences[1]) # [54, 24, 5]\n",
        "\n"
      ]
    },
    {
      "cell_type": "markdown",
      "metadata": {
        "id": "9ERg9wbfj_uR"
      },
      "source": [
        "# LSTM Model"
      ]
    },
    {
      "cell_type": "code",
      "execution_count": 9,
      "metadata": {
        "colab": {
          "base_uri": "https://localhost:8080/",
          "height": 228
        },
        "id": "sRSr_icdj-_D",
        "outputId": "7bd2ff20-e968-40f7-c238-2000f65db2b7"
      },
      "outputs": [
        {
          "name": "stdout",
          "output_type": "stream",
          "text": [
            "Epoch 1/20\n",
            "\u001b[1m2000/2000\u001b[0m \u001b[32m━━━━━━━━━━━━━━━━━━━━\u001b[0m\u001b[37m\u001b[0m \u001b[1m2500s\u001b[0m 1s/step - accuracy: 0.0399 - loss: 7.4691\n",
            "Epoch 2/20\n"
          ]
        },
        {
          "name": "stderr",
          "output_type": "stream",
          "text": [
            "c:\\Python312\\Lib\\contextlib.py:158: UserWarning: Your input ran out of data; interrupting training. Make sure that your dataset or generator can generate at least `steps_per_epoch * epochs` batches. You may need to use the `.repeat()` function when building your dataset.\n",
            "  self.gen.throw(value)\n"
          ]
        },
        {
          "name": "stdout",
          "output_type": "stream",
          "text": [
            "\u001b[1m2000/2000\u001b[0m \u001b[32m━━━━━━━━━━━━━━━━━━━━\u001b[0m\u001b[37m\u001b[0m \u001b[1m2427s\u001b[0m 1s/step - accuracy: 0.0845 - loss: 6.7468\n",
            "Epoch 3/20\n",
            "\u001b[1m2000/2000\u001b[0m \u001b[32m━━━━━━━━━━━━━━━━━━━━\u001b[0m\u001b[37m\u001b[0m \u001b[1m5766s\u001b[0m 3s/step - accuracy: 0.1045 - loss: 6.4536\n",
            "Epoch 4/20\n",
            "\u001b[1m2000/2000\u001b[0m \u001b[32m━━━━━━━━━━━━━━━━━━━━\u001b[0m\u001b[37m\u001b[0m \u001b[1m2172s\u001b[0m 1s/step - accuracy: 0.1173 - loss: 6.2353\n",
            "Epoch 5/20\n",
            "\u001b[1m2000/2000\u001b[0m \u001b[32m━━━━━━━━━━━━━━━━━━━━\u001b[0m\u001b[37m\u001b[0m \u001b[1m2554s\u001b[0m 1s/step - accuracy: 0.1280 - loss: 6.0400\n",
            "Epoch 6/20\n",
            "\u001b[1m2000/2000\u001b[0m \u001b[32m━━━━━━━━━━━━━━━━━━━━\u001b[0m\u001b[37m\u001b[0m \u001b[1m2439s\u001b[0m 1s/step - accuracy: 0.1375 - loss: 5.8571\n",
            "Epoch 7/20\n",
            "\u001b[1m2000/2000\u001b[0m \u001b[32m━━━━━━━━━━━━━━━━━━━━\u001b[0m\u001b[37m\u001b[0m \u001b[1m2302s\u001b[0m 1s/step - accuracy: 0.1473 - loss: 5.6737\n",
            "Epoch 8/20\n",
            "\u001b[1m2000/2000\u001b[0m \u001b[32m━━━━━━━━━━━━━━━━━━━━\u001b[0m\u001b[37m\u001b[0m \u001b[1m2216s\u001b[0m 1s/step - accuracy: 0.1587 - loss: 5.5003\n",
            "Epoch 9/20\n",
            "\u001b[1m2000/2000\u001b[0m \u001b[32m━━━━━━━━━━━━━━━━━━━━\u001b[0m\u001b[37m\u001b[0m \u001b[1m38715s\u001b[0m 19s/step - accuracy: 0.1688 - loss: 5.3291\n",
            "Epoch 10/20\n",
            "\u001b[1m2000/2000\u001b[0m \u001b[32m━━━━━━━━━━━━━━━━━━━━\u001b[0m\u001b[37m\u001b[0m \u001b[1m2017s\u001b[0m 1s/step - accuracy: 0.1817 - loss: 5.1557\n",
            "Epoch 11/20\n",
            "\u001b[1m2000/2000\u001b[0m \u001b[32m━━━━━━━━━━━━━━━━━━━━\u001b[0m\u001b[37m\u001b[0m \u001b[1m2262s\u001b[0m 1s/step - accuracy: 0.1944 - loss: 5.0025\n",
            "Epoch 12/20\n",
            "\u001b[1m2000/2000\u001b[0m \u001b[32m━━━━━━━━━━━━━━━━━━━━\u001b[0m\u001b[37m\u001b[0m \u001b[1m1965s\u001b[0m 982ms/step - accuracy: 0.2087 - loss: 4.8413\n",
            "Epoch 13/20\n",
            "\u001b[1m2000/2000\u001b[0m \u001b[32m━━━━━━━━━━━━━━━━━━━━\u001b[0m\u001b[37m\u001b[0m \u001b[1m954s\u001b[0m 477ms/step - accuracy: 0.2214 - loss: 4.7025\n",
            "Epoch 14/20\n",
            "\u001b[1m2000/2000\u001b[0m \u001b[32m━━━━━━━━━━━━━━━━━━━━\u001b[0m\u001b[37m\u001b[0m \u001b[1m994s\u001b[0m 497ms/step - accuracy: 0.2336 - loss: 4.5647\n",
            "Epoch 15/20\n",
            "\u001b[1m2000/2000\u001b[0m \u001b[32m━━━━━━━━━━━━━━━━━━━━\u001b[0m\u001b[37m\u001b[0m \u001b[1m1199s\u001b[0m 600ms/step - accuracy: 0.2442 - loss: 4.4471\n",
            "Epoch 16/20\n",
            "\u001b[1m2000/2000\u001b[0m \u001b[32m━━━━━━━━━━━━━━━━━━━━\u001b[0m\u001b[37m\u001b[0m \u001b[1m1089s\u001b[0m 545ms/step - accuracy: 0.2575 - loss: 4.3188\n",
            "Epoch 17/20\n",
            "\u001b[1m2000/2000\u001b[0m \u001b[32m━━━━━━━━━━━━━━━━━━━━\u001b[0m\u001b[37m\u001b[0m \u001b[1m1046s\u001b[0m 523ms/step - accuracy: 0.2710 - loss: 4.1854\n",
            "Epoch 18/20\n",
            "\u001b[1m2000/2000\u001b[0m \u001b[32m━━━━━━━━━━━━━━━━━━━━\u001b[0m\u001b[37m\u001b[0m \u001b[1m1009s\u001b[0m 504ms/step - accuracy: 0.2807 - loss: 4.0924\n",
            "Epoch 19/20\n",
            "\u001b[1m2000/2000\u001b[0m \u001b[32m━━━━━━━━━━━━━━━━━━━━\u001b[0m\u001b[37m\u001b[0m \u001b[1m1069s\u001b[0m 534ms/step - accuracy: 0.2921 - loss: 3.9905\n",
            "Epoch 20/20\n",
            "\u001b[1m2000/2000\u001b[0m \u001b[32m━━━━━━━━━━━━━━━━━━━━\u001b[0m\u001b[37m\u001b[0m \u001b[1m1072s\u001b[0m 536ms/step - accuracy: 0.3025 - loss: 3.9006\n"
          ]
        },
        {
          "data": {
            "text/plain": [
              "<keras.src.callbacks.history.History at 0x18297a43080>"
            ]
          },
          "execution_count": 9,
          "metadata": {},
          "output_type": "execute_result"
        }
      ],
      "source": [
        "# Task 3: Create LSTM model, compile it and fit it.\n",
        "\n",
        "\n",
        "# Pad sequences to ensure equal length\n",
        "max_sequence_length = max([len(seq) for seq in input_sequences])\n",
        "padded_sequences = np.array(pad_sequences(input_sequences, maxlen=max_sequence_length, padding='pre'))\n",
        "\n",
        "# Prepare input and target data\n",
        "x_sequences = padded_sequences[:, :-1]\n",
        "label = padded_sequences[:, -1]\n",
        "\n",
        "\n",
        "# y_sequences = tf.keras.utils.to_categorical(label, num_classes=total_words)\n",
        "\n",
        "\n",
        "# Build the LSTM model\n",
        "model = Sequential()\n",
        "\n",
        "model.add(Embedding(total_words, 240))\n",
        "\n",
        "model.add(Bidirectional(LSTM(150)))\n",
        "\n",
        "model.add(Dropout(0.5))\n",
        "\n",
        "model.add(Dense(total_words, activation=\"softmax\"))\n",
        "\n",
        "# adam = Adam(lr=0.01)\n",
        "# Compile the model\n",
        "model.compile(optimizer=\"adam\", loss='sparse_categorical_crossentropy', metrics=['accuracy'])\n",
        " \n",
        "# Train the model\n",
        "model.fit(x_sequences, label, steps_per_epoch=2000 , epochs=20, verbose=1)\n"
      ]
    },
    {
      "cell_type": "markdown",
      "metadata": {
        "id": "pzqPh9fIkl5y"
      },
      "source": [
        "# Model Prediction"
      ]
    },
    {
      "cell_type": "code",
      "execution_count": 10,
      "metadata": {
        "id": "fFPvLZ7CklKa"
      },
      "outputs": [
        {
          "name": "stdout",
          "output_type": "stream",
          "text": [
            "a\n",
            "things\n"
          ]
        }
      ],
      "source": [
        "# Complete the following prediction function\n",
        "\n",
        "# Prediction function\n",
        "def predict_next_word(text):\n",
        "    predicted_word = ''\n",
        "\n",
        "\n",
        "    # YOUR CODE HERE\n",
        "    token_list = tokenizer.texts_to_sequences([text])[0]\n",
        "    token_list = pad_sequences([token_list], maxlen=max_sequence_length - 1, padding='pre')\n",
        "    predicted = model.predict(token_list, verbose=0)\n",
        "    predicted_word_index = np.argmax(predicted, axis=1)[0]\n",
        "    predicted_word = tokenizer.index_word[predicted_word_index]\n",
        "\n",
        "\n",
        "    return predicted_word\n",
        "\n",
        "\n",
        "# test the model\n",
        "print(predict_next_word(\"most people mess up\")) # many\n",
        "\n",
        "print(predict_next_word(\"most people mess up many\")) # many times\n"
      ]
    },
    {
      "cell_type": "markdown",
      "metadata": {
        "id": "I0loxGmLlBoN"
      },
      "source": [
        "# Play with it !"
      ]
    },
    {
      "cell_type": "code",
      "execution_count": 14,
      "metadata": {
        "id": "P5wnINJwlFcP"
      },
      "outputs": [
        {
          "name": "stdout",
          "output_type": "stream",
          "text": [
            "twitter is a good idea of the dog walking dead all day\n"
          ]
        }
      ],
      "source": [
        "text = \"twitter is\" # starting text\n",
        "for _ in range(10): # generate the next 10 words\n",
        "  next = predict_next_word(text)\n",
        "  text = text + \" \" + next\n",
        "\n",
        "print(text)\n"
      ]
    }
  ],
  "metadata": {
    "colab": {
      "include_colab_link": true,
      "provenance": []
    },
    "kernelspec": {
      "display_name": "Python 3",
      "name": "python3"
    },
    "language_info": {
      "codemirror_mode": {
        "name": "ipython",
        "version": 3
      },
      "file_extension": ".py",
      "mimetype": "text/x-python",
      "name": "python",
      "nbconvert_exporter": "python",
      "pygments_lexer": "ipython3",
      "version": "3.12.1"
    }
  },
  "nbformat": 4,
  "nbformat_minor": 0
}
